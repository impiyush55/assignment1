{
 "cells": [
  {
   "cell_type": "markdown",
   "id": "bbbabb28-a390-4345-b151-a53ffd9f3ae1",
   "metadata": {},
   "source": [
    "assignment\n"
   ]
  },
  {
   "cell_type": "markdown",
   "id": "4c59a46d-6ceb-42fd-9638-c5a833e6bca1",
   "metadata": {},
   "source": [
    "Q1.Explain with an example each when to use a for loop and a while loop.\n"
   ]
  },
  {
   "cell_type": "markdown",
   "id": "c5a6ff9b-8e72-43a9-8109-08dc54fa409b",
   "metadata": {},
   "source": [
    "For loop is used to iterate over a sequence of items. While loop is used to repeatedly execute a block of statements while a condition is true."
   ]
  },
  {
   "cell_type": "code",
   "execution_count": 1,
   "id": "4977075a-bc09-40ac-ad61-3ea9d3796fff",
   "metadata": {},
   "outputs": [
    {
     "name": "stdout",
     "output_type": "stream",
     "text": [
      "0\n",
      "1\n",
      "2\n",
      "3\n",
      "4\n",
      "5\n",
      "6\n",
      "7\n",
      "8\n",
      "9\n"
     ]
    }
   ],
   "source": [
    "for i in range (10):\n",
    "    print(i)"
   ]
  },
  {
   "cell_type": "code",
   "execution_count": 2,
   "id": "9807f970-8de0-41ee-950e-634be2990e9a",
   "metadata": {},
   "outputs": [
    {
     "name": "stdin",
     "output_type": "stream",
     "text": [
      "enter a number 4\n"
     ]
    },
    {
     "data": {
      "text/plain": [
       "24"
      ]
     },
     "execution_count": 2,
     "metadata": {},
     "output_type": "execute_result"
    }
   ],
   "source": [
    "number =  int(input(\"enter a number\"))\n",
    "factorial = 1\n",
    "while number > 0:\n",
    "    factorial = factorial*number\n",
    "    number = number -1\n",
    "factorial  "
   ]
  },
  {
   "cell_type": "markdown",
   "id": "5905a80e-070b-4cd0-9f0f-c95de1204e01",
   "metadata": {},
   "source": [
    " Q.no 2 Write a python program to print the sum and product of the first 10 natural numbers using for and while loop?"
   ]
  },
  {
   "cell_type": "code",
   "execution_count": 10,
   "id": "8aaf2877-d9e7-4d5e-bba7-587b8cc56923",
   "metadata": {},
   "outputs": [
    {
     "data": {
      "text/plain": [
       "55"
      ]
     },
     "execution_count": 10,
     "metadata": {},
     "output_type": "execute_result"
    }
   ],
   "source": [
    "L=[1,2,3,4,5,6,7,8,9,10]\n",
    "result=0\n",
    "for i in L:\n",
    "    result=result+i\n",
    "result "
   ]
  },
  {
   "cell_type": "code",
   "execution_count": 23,
   "id": "35e7af4c-a2df-4bd3-85fa-010def8cbda5",
   "metadata": {},
   "outputs": [
    {
     "data": {
      "text/plain": [
       "55"
      ]
     },
     "execution_count": 23,
     "metadata": {},
     "output_type": "execute_result"
    }
   ],
   "source": [
    "sum= 0\n",
    "for i in range (1,11):\n",
    "    sum = sum + i\n",
    "sum    "
   ]
  },
  {
   "cell_type": "code",
   "execution_count": 18,
   "id": "c12a92ee-3356-43e6-8840-22420603729d",
   "metadata": {},
   "outputs": [
    {
     "data": {
      "text/plain": [
       "3628800"
      ]
     },
     "execution_count": 18,
     "metadata": {},
     "output_type": "execute_result"
    }
   ],
   "source": [
    "L=[1,2,3,4,5,6,7,8,9,10]\n",
    "result=1\n",
    "for i in L:\n",
    "    result = result*i\n",
    "result "
   ]
  },
  {
   "cell_type": "code",
   "execution_count": 21,
   "id": "0ccc2511-437f-49c9-9595-9160705dae85",
   "metadata": {},
   "outputs": [
    {
     "data": {
      "text/plain": [
       "3628800"
      ]
     },
     "execution_count": 21,
     "metadata": {},
     "output_type": "execute_result"
    }
   ],
   "source": [
    "product= 1\n",
    "for i in range (1,11):\n",
    "    product = product * i\n",
    "product    "
   ]
  },
  {
   "cell_type": "code",
   "execution_count": 14,
   "id": "6b3cb4d3-3d63-43d3-99c9-bd68410de149",
   "metadata": {},
   "outputs": [
    {
     "name": "stdin",
     "output_type": "stream",
     "text": [
      "enter your limit 10\n"
     ]
    },
    {
     "data": {
      "text/plain": [
       "55"
      ]
     },
     "execution_count": 14,
     "metadata": {},
     "output_type": "execute_result"
    }
   ],
   "source": [
    "#sum of natural number up to 10 using while loop\n",
    "n= int(input(\"enter your limit\"))\n",
    "starting_point = 0\n",
    "counter = 1\n",
    "\n",
    "while counter <= n:\n",
    "    starting_point = starting_point + counter\n",
    "    counter = counter + 1\n",
    "starting_point   "
   ]
  },
  {
   "cell_type": "code",
   "execution_count": 24,
   "id": "c4b5f06d-c07d-4e93-96c7-da3c3204beeb",
   "metadata": {},
   "outputs": [
    {
     "name": "stdin",
     "output_type": "stream",
     "text": [
      "enter your limit 10\n"
     ]
    },
    {
     "data": {
      "text/plain": [
       "3628800"
      ]
     },
     "execution_count": 24,
     "metadata": {},
     "output_type": "execute_result"
    }
   ],
   "source": [
    "#product  of 10 natural number\n",
    "n= int(input(\"enter your limit\"))\n",
    "starting_point = 1\n",
    "counter = 1\n",
    "\n",
    "while counter <= n:\n",
    "    starting_point = starting_point * counter\n",
    "    counter = counter + 1\n",
    "starting_point "
   ]
  },
  {
   "cell_type": "markdown",
   "id": "8ac8d749-c4a0-4a24-9a2c-262064a22050",
   "metadata": {},
   "source": [
    "Q4. Create a list of numbers from 1 to 100. Use for loop and while loop to calculate the cube of each\n",
    "number and if the cube of that number is divisible by 4 or 5 then append that number in a list and print\n",
    "that list."
   ]
  },
  {
   "cell_type": "code",
   "execution_count": 29,
   "id": "678157a2-a7f8-4e06-8c0d-30c1dcd3239e",
   "metadata": {},
   "outputs": [
    {
     "name": "stdout",
     "output_type": "stream",
     "text": [
      "1\n",
      "2\n",
      "3\n",
      "4\n",
      "5\n",
      "6\n",
      "7\n",
      "8\n",
      "9\n",
      "10\n",
      "11\n",
      "12\n",
      "13\n",
      "14\n",
      "15\n",
      "16\n",
      "17\n",
      "18\n",
      "19\n",
      "20\n",
      "21\n",
      "22\n",
      "23\n",
      "24\n",
      "25\n",
      "26\n",
      "27\n",
      "28\n",
      "29\n",
      "30\n",
      "31\n",
      "32\n",
      "33\n",
      "34\n",
      "35\n",
      "36\n",
      "37\n",
      "38\n",
      "39\n",
      "40\n",
      "41\n",
      "42\n",
      "43\n",
      "44\n",
      "45\n",
      "46\n",
      "47\n",
      "48\n",
      "49\n",
      "50\n",
      "51\n",
      "52\n",
      "53\n",
      "54\n",
      "55\n",
      "56\n",
      "57\n",
      "58\n",
      "59\n",
      "60\n",
      "61\n",
      "62\n",
      "63\n",
      "64\n",
      "65\n",
      "66\n",
      "67\n",
      "68\n",
      "69\n",
      "70\n",
      "71\n",
      "72\n",
      "73\n",
      "74\n",
      "75\n",
      "76\n",
      "77\n",
      "78\n",
      "79\n",
      "80\n",
      "81\n",
      "82\n",
      "83\n",
      "84\n",
      "85\n",
      "86\n",
      "87\n",
      "88\n",
      "89\n",
      "90\n",
      "91\n",
      "92\n",
      "93\n",
      "94\n",
      "95\n",
      "96\n",
      "97\n",
      "98\n",
      "99\n",
      "100\n"
     ]
    }
   ],
   "source": [
    "l=[]\n",
    "for i in range (1,101):\n",
    "    \n",
    "    print(i)\n",
    "    "
   ]
  },
  {
   "cell_type": "code",
   "execution_count": 30,
   "id": "0f505ecb-f175-4c58-9cc0-a3f4bef51783",
   "metadata": {},
   "outputs": [
    {
     "data": {
      "text/plain": [
       "[]"
      ]
     },
     "execution_count": 30,
     "metadata": {},
     "output_type": "execute_result"
    }
   ],
   "source": [
    "l"
   ]
  },
  {
   "cell_type": "code",
   "execution_count": null,
   "id": "36e2a894-56f1-4ac2-aa8e-b93f256fc3d2",
   "metadata": {},
   "outputs": [],
   "source": []
  }
 ],
 "metadata": {
  "kernelspec": {
   "display_name": "Python 3 (ipykernel)",
   "language": "python",
   "name": "python3"
  },
  "language_info": {
   "codemirror_mode": {
    "name": "ipython",
    "version": 3
   },
   "file_extension": ".py",
   "mimetype": "text/x-python",
   "name": "python",
   "nbconvert_exporter": "python",
   "pygments_lexer": "ipython3",
   "version": "3.10.8"
  }
 },
 "nbformat": 4,
 "nbformat_minor": 5
}
